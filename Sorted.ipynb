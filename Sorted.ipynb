{
 "cells": [
  {
   "cell_type": "code",
   "execution_count": 36,
   "metadata": {},
   "outputs": [
    {
     "name": "stdout",
     "output_type": "stream",
     "text": [
      "1.txt 8\n",
      "2.txt 1\n"
     ]
    }
   ],
   "source": [
    "import os\n",
    "\n",
    "path1 = 'C:/Users/Анна/Desktop/Files/1.txt'\n",
    "path2 = 'C:/Users/Анна/Desktop/Files/2.txt'\n",
    "path3 = 'C:/Users/Анна/Desktop/Files/3.txt'\n",
    "\n",
    "with open (path1, 'r', encoding='utf8') as f1, open (path2, 'r', encoding='utf8') as f2, open (path3, 'r', encoding='utf8'), open (path3, 'r', encoding='utf8') as f3 :\n",
    "    filename1 = os.path.basename(path1)\n",
    "    filename2 = os.path.basename(path2)\n",
    "    print(filename1, len(f1.readlines()))\n",
    "    print(filename2, len(f2.readlines()))"
   ]
  },
  {
   "cell_type": "code",
   "execution_count": 46,
   "metadata": {},
   "outputs": [],
   "source": [
    "import os\n",
    "\n",
    "path1 = 'C:/Users/Анна/Desktop/Files/1.txt'\n",
    "\n",
    "with open (path1, 'r', encoding='utf8') as f1:\n",
    "    di = {}\n",
    "    file1 = f1.readlines()\n",
    "    di[len(file1)] = [os.path.basename(path1), file1]"
   ]
  },
  {
   "cell_type": "code",
   "execution_count": 47,
   "metadata": {},
   "outputs": [
    {
     "data": {
      "text/plain": [
       "{8: ['1.txt',\n",
       "  ['Начальник  полиции\\n',\n",
       "   'лично позвонил в шестнадцатый участок. А спустя  одну минуту тридцать секунд\\n',\n",
       "   'в дежурке и других комнатах нижнего этажа раздались звонки\\n',\n",
       "   '     Когда Иенсен  --  комиссар  шестнадцатого  участка --  вышел  из своего\\n',\n",
       "   'кабинета,  звонки еще  не смолкли. Иенсен был мужчина средних лет,  обычного\\n',\n",
       "   'сложения, с лицом плоским и невыразительным. На последней ступеньке винтовой\\n',\n",
       "   'лестницы  он задержался  и  обвел взглядом помещение дежурки. Затем поправил\\n',\n",
       "   'галстук и проследовал к машине.']]}"
      ]
     },
     "execution_count": 47,
     "metadata": {},
     "output_type": "execute_result"
    }
   ],
   "source": [
    "di"
   ]
  },
  {
   "cell_type": "code",
   "execution_count": 60,
   "metadata": {},
   "outputs": [],
   "source": [
    "import os\n",
    "\n",
    "path = 'C:/Users/Анна/Desktop/Files'\n",
    "li = []\n",
    "\n",
    "for filename in os.listdir(path):\n",
    "    if filename.endswith('txt'):\n",
    "        with open(os.path.join(path, filename), 'r', encoding='utf-8') as f:\n",
    "            text = f.readlines()\n",
    "            li += [[len(text), filename, text]]"
   ]
  },
  {
   "cell_type": "code",
   "execution_count": 61,
   "metadata": {},
   "outputs": [
    {
     "data": {
      "text/plain": [
       "[[8,\n",
       "  '1.txt',\n",
       "  ['Начальник  полиции\\n',\n",
       "   'лично позвонил в шестнадцатый участок. А спустя  одну минуту тридцать секунд\\n',\n",
       "   'в дежурке и других комнатах нижнего этажа раздались звонки\\n',\n",
       "   '     Когда Иенсен  --  комиссар  шестнадцатого  участка --  вышел  из своего\\n',\n",
       "   'кабинета,  звонки еще  не смолкли. Иенсен был мужчина средних лет,  обычного\\n',\n",
       "   'сложения, с лицом плоским и невыразительным. На последней ступеньке винтовой\\n',\n",
       "   'лестницы  он задержался  и  обвел взглядом помещение дежурки. Затем поправил\\n',\n",
       "   'галстук и проследовал к машине.']],\n",
       " [1, '2.txt', ['Тревога началась в тринадцать часов ноль две минуты. \\n']],\n",
       " [9,\n",
       "  '3.txt',\n",
       "  ['     В  это время  дня  машины текли сплошным  блестящим  потоком,  а  среди\\n',\n",
       "   'потока, будто  колонны из бетона  и стекла, высились  здания. Здесь,  в мире\\n',\n",
       "   'резких граней,  люди  на тротуарах  выглядели  несчастными и  неприкаянными.\\n',\n",
       "   'Одеты они были хорошо, но как-то удивительно походили друг на друга и все до\\n',\n",
       "   'одного спешили. Они шли нестройными  вереницами, широко разливались, завидев\\n',\n",
       "   'красный  светофор или  металлический  блеск кафе-автоматов.  Они непрестанно\\n',\n",
       "   'озирались по сторонам и теребили портфели и сумочки.\\n',\n",
       "   '     Полицейские  машины  с  включенными  сиренами  пробивались  сквозь  эту\\n',\n",
       "   'толчею.']]]"
      ]
     },
     "execution_count": 61,
     "metadata": {},
     "output_type": "execute_result"
    }
   ],
   "source": [
    "li"
   ]
  },
  {
   "cell_type": "code",
   "execution_count": 51,
   "metadata": {},
   "outputs": [
    {
     "name": "stdout",
     "output_type": "stream",
     "text": [
      "1.txt\n",
      "2.txt\n",
      "3.txt\n"
     ]
    }
   ],
   "source": [
    "import os\n",
    "\n",
    "path = 'C:/Users/Анна/Desktop/Files'\n",
    "\n",
    "rez = sorted(os.listdir(path))\n",
    "for filename in os.listdir(path):\n",
    "    if filename.endswith('txt'):\n",
    "        print(filename)"
   ]
  },
  {
   "cell_type": "code",
   "execution_count": null,
   "metadata": {},
   "outputs": [],
   "source": []
  }
 ],
 "metadata": {
  "kernelspec": {
   "display_name": "Python 3",
   "language": "python",
   "name": "python3"
  },
  "language_info": {
   "codemirror_mode": {
    "name": "ipython",
    "version": 3
   },
   "file_extension": ".py",
   "mimetype": "text/x-python",
   "name": "python",
   "nbconvert_exporter": "python",
   "pygments_lexer": "ipython3",
   "version": "3.11.7"
  }
 },
 "nbformat": 4,
 "nbformat_minor": 2
}
