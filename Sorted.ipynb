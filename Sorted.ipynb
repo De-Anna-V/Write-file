{
 "cells": [
  {
   "cell_type": "code",
   "execution_count": 20,
   "metadata": {},
   "outputs": [],
   "source": [
    "import os\n",
    "\n",
    "path = 'C:/Users/Анна/Desktop/Files'\n",
    "\n",
    "def create_contents(path):\n",
    "    contents = []\n",
    "\n",
    "    for filename in os.listdir(path):\n",
    "        if filename.endswith('txt'):\n",
    "            with open(os.path.join(path, filename), 'r', encoding='utf-8') as rf:\n",
    "                lines = rf.readlines()\n",
    "                contents += [[len(lines), filename, lines]]\n",
    "    return contents\n",
    "\n",
    "with open(os.path.join(path, 'result'), 'a', encoding='utf-8') as wf:\n",
    "    for el in sorted(create_contents(path)):\n",
    "        passage = f'{el[1]}\\n {el[0]}\\n {\" \".join(el[2])}' \n",
    "        wf.write(passage)"
   ]
  }
 ],
 "metadata": {
  "kernelspec": {
   "display_name": "Python 3",
   "language": "python",
   "name": "python3"
  },
  "language_info": {
   "codemirror_mode": {
    "name": "ipython",
    "version": 3
   },
   "file_extension": ".py",
   "mimetype": "text/x-python",
   "name": "python",
   "nbconvert_exporter": "python",
   "pygments_lexer": "ipython3",
   "version": "3.11.7"
  }
 },
 "nbformat": 4,
 "nbformat_minor": 2
}
