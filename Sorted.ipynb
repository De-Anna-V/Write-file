{
 "cells": [
  {
   "cell_type": "code",
   "execution_count": 86,
   "metadata": {},
   "outputs": [
    {
     "name": "stdout",
     "output_type": "stream",
     "text": [
      "2.txt,\n",
      " 1,\n",
      " Тревога началась в тринадцать часов ноль две минуты. \n",
      " \n",
      "1.txt,\n",
      " 8,\n",
      " Начальник  полиции\n",
      " лично позвонил в шестнадцатый участок. А спустя  одну минуту тридцать секунд\n",
      " в дежурке и других комнатах нижнего этажа раздались звонки\n",
      "      Когда Иенсен  --  комиссар  шестнадцатого  участка --  вышел  из своего\n",
      " кабинета,  звонки еще  не смолкли. Иенсен был мужчина средних лет,  обычного\n",
      " сложения, с лицом плоским и невыразительным. На последней ступеньке винтовой\n",
      " лестницы  он задержался  и  обвел взглядом помещение дежурки. Затем поправил\n",
      " галстук и проследовал к машине. \n",
      "3.txt,\n",
      " 9,\n",
      "      В  это время  дня  машины текли сплошным  блестящим  потоком,  а  среди\n",
      " потока, будто  колонны из бетона  и стекла, высились  здания. Здесь,  в мире\n",
      " резких граней,  люди  на тротуарах  выглядели  несчастными и  неприкаянными.\n",
      " Одеты они были хорошо, но как-то удивительно походили друг на друга и все до\n",
      " одного спешили. Они шли нестройными  вереницами, широко разливались, завидев\n",
      " красный  светофор или  металлический  блеск кафе-автоматов.  Они непрестанно\n",
      " озирались по сторонам и теребили портфели и сумочки.\n",
      "      Полицейские  машины  с  включенными  сиренами  пробивались  сквозь  эту\n",
      " толчею. \n"
     ]
    }
   ],
   "source": [
    "import os\n",
    "\n",
    "path = 'C:/Users/Анна/Desktop/Files'\n",
    "\n",
    "def create_contents(path):\n",
    "    contents = []\n",
    "\n",
    "    for filename in os.listdir(path):\n",
    "        if filename.endswith('txt'):\n",
    "            with open(os.path.join(path, filename), 'r', encoding='utf-8') as f:\n",
    "                lines = f.readlines()\n",
    "                contents += [[len(lines), filename, lines]]\n",
    "    return contents\n",
    "\n",
    "for el in sorted(create_contents(path)):\n",
    "    passage = f'{el[1]},\\n {el[0]},\\n {\" \".join(el[2])} '\n",
    "    print(passage)"
   ]
  },
  {
   "cell_type": "code",
   "execution_count": 51,
   "metadata": {},
   "outputs": [
    {
     "name": "stdout",
     "output_type": "stream",
     "text": [
      "1.txt\n",
      "2.txt\n",
      "3.txt\n"
     ]
    }
   ],
   "source": [
    "import os\n",
    "\n",
    "path = 'C:/Users/Анна/Desktop/Files'\n",
    "\n",
    "rez = sorted(os.listdir(path))\n",
    "for filename in os.listdir(path):\n",
    "    if filename.endswith('txt'):\n",
    "        print(filename)"
   ]
  },
  {
   "cell_type": "code",
   "execution_count": null,
   "metadata": {},
   "outputs": [],
   "source": [
    "[line.strip() for line in f]"
   ]
  }
 ],
 "metadata": {
  "kernelspec": {
   "display_name": "Python 3",
   "language": "python",
   "name": "python3"
  },
  "language_info": {
   "codemirror_mode": {
    "name": "ipython",
    "version": 3
   },
   "file_extension": ".py",
   "mimetype": "text/x-python",
   "name": "python",
   "nbconvert_exporter": "python",
   "pygments_lexer": "ipython3",
   "version": "3.11.7"
  }
 },
 "nbformat": 4,
 "nbformat_minor": 2
}
